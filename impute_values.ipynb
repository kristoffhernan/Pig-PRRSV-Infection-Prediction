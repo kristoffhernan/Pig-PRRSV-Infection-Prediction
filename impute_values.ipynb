{
 "cells": [
  {
   "cell_type": "code",
   "execution_count": 3,
   "id": "normal-flood",
   "metadata": {
    "tags": []
   },
   "outputs": [],
   "source": [
    "import pandas as pd\n",
    "import numpy as np\n",
    "from scipy import stats\n",
    "import statistics as s\n",
    "\n",
    "import matplotlib.pyplot as plt\n",
    "import seaborn as sns\n",
    "#import pylab "
   ]
  },
  {
   "cell_type": "code",
   "execution_count": 4,
   "id": "passive-baker",
   "metadata": {
    "tags": []
   },
   "outputs": [],
   "source": [
    "from sklearn.impute import KNNImputer\n",
    "from sklearn.linear_model import Ridge\n",
    "from sklearn.preprocessing import PolynomialFeatures, SplineTransformer\n",
    "from sklearn.pipeline import make_pipeline\n",
    "\n",
    "from sklearn.model_selection import train_test_split\n",
    "from sklearn.linear_model import LinearRegression\n",
    "from sklearn.preprocessing import LabelEncoder\n",
    "from sklearn.metrics import accuracy_score, confusion_matrix\n",
    "from sklearn.metrics import r2_score, mean_squared_error\n",
    "\n",
    "from sklearn.model_selection import RandomizedSearchCV, GridSearchCV\n",
    "from sklearn.metrics import roc_auc_score\n",
    "from sklearn.model_selection import StratifiedKFold"
   ]
  },
  {
   "cell_type": "code",
   "execution_count": 5,
   "id": "settled-extra",
   "metadata": {
    "tags": []
   },
   "outputs": [],
   "source": [
    "import warnings\n",
    "warnings.filterwarnings(\"ignore\") # suppress warning about function changing"
   ]
  },
  {
   "cell_type": "code",
   "execution_count": 19,
   "id": "dated-boost",
   "metadata": {
    "tags": []
   },
   "outputs": [],
   "source": [
    "df1 = pd.read_csv('./allfile_counts.csv', delimiter= '\\t', header=0, index_col=0)"
   ]
  },
  {
   "cell_type": "code",
   "execution_count": 8,
   "id": "ideal-missouri",
   "metadata": {
    "tags": []
   },
   "outputs": [],
   "source": [
    "dpi = df1['dpi']"
   ]
  },
  {
   "cell_type": "code",
   "execution_count": 9,
   "id": "requested-incentive",
   "metadata": {
    "tags": []
   },
   "outputs": [],
   "source": [
    "df = pd.read_csv('./normalized_counts2.txt', delimiter= '\\t', header=0, index_col=0)"
   ]
  },
  {
   "cell_type": "code",
   "execution_count": 10,
   "id": "stylish-bhutan",
   "metadata": {
    "tags": []
   },
   "outputs": [],
   "source": [
    "df = df.transpose()"
   ]
  },
  {
   "cell_type": "code",
   "execution_count": 11,
   "id": "color-spirit",
   "metadata": {
    "tags": []
   },
   "outputs": [],
   "source": [
    "df.index = df1.index"
   ]
  },
  {
   "cell_type": "code",
   "execution_count": 12,
   "id": "metropolitan-mason",
   "metadata": {
    "tags": []
   },
   "outputs": [],
   "source": [
    "df['dpi'] = dpi"
   ]
  },
  {
   "cell_type": "code",
   "execution_count": 17,
   "id": "alike-sense",
   "metadata": {
    "tags": []
   },
   "outputs": [],
   "source": [
    "eg = df[['ENSSSCG00000000574', 'dpi']]"
   ]
  },
  {
   "cell_type": "code",
   "execution_count": 13,
   "id": "modular-universe",
   "metadata": {
    "tags": []
   },
   "outputs": [
    {
     "data": {
      "text/html": [
       "<div>\n",
       "<style scoped>\n",
       "    .dataframe tbody tr th:only-of-type {\n",
       "        vertical-align: middle;\n",
       "    }\n",
       "\n",
       "    .dataframe tbody tr th {\n",
       "        vertical-align: top;\n",
       "    }\n",
       "\n",
       "    .dataframe thead th {\n",
       "        text-align: right;\n",
       "    }\n",
       "</style>\n",
       "<table border=\"1\" class=\"dataframe\">\n",
       "  <thead>\n",
       "    <tr style=\"text-align: right;\">\n",
       "      <th></th>\n",
       "      <th>baseMean</th>\n",
       "      <th>log2FoldChange</th>\n",
       "      <th>lfcSE</th>\n",
       "      <th>stat</th>\n",
       "      <th>pvalue</th>\n",
       "      <th>padj</th>\n",
       "    </tr>\n",
       "  </thead>\n",
       "  <tbody>\n",
       "    <tr>\n",
       "      <th>ENSSSCG00000000002</th>\n",
       "      <td>98.064004</td>\n",
       "      <td>0.028840</td>\n",
       "      <td>0.005289</td>\n",
       "      <td>5.452589</td>\n",
       "      <td>4.964168e-08</td>\n",
       "      <td>7.248131e-07</td>\n",
       "    </tr>\n",
       "    <tr>\n",
       "      <th>ENSSSCG00000000007</th>\n",
       "      <td>358.054436</td>\n",
       "      <td>0.014851</td>\n",
       "      <td>0.006395</td>\n",
       "      <td>2.322250</td>\n",
       "      <td>2.021946e-02</td>\n",
       "      <td>5.024005e-02</td>\n",
       "    </tr>\n",
       "    <tr>\n",
       "      <th>ENSSSCG00000000010</th>\n",
       "      <td>22.894631</td>\n",
       "      <td>-0.045210</td>\n",
       "      <td>0.013462</td>\n",
       "      <td>-3.358360</td>\n",
       "      <td>7.840636e-04</td>\n",
       "      <td>3.331489e-03</td>\n",
       "    </tr>\n",
       "    <tr>\n",
       "      <th>ENSSSCG00000000015</th>\n",
       "      <td>7.852888</td>\n",
       "      <td>0.021296</td>\n",
       "      <td>0.010580</td>\n",
       "      <td>2.012802</td>\n",
       "      <td>4.413543e-02</td>\n",
       "      <td>9.545964e-02</td>\n",
       "    </tr>\n",
       "    <tr>\n",
       "      <th>ENSSSCG00000000019</th>\n",
       "      <td>789.126111</td>\n",
       "      <td>-0.020717</td>\n",
       "      <td>0.006906</td>\n",
       "      <td>-2.999841</td>\n",
       "      <td>2.701210e-03</td>\n",
       "      <td>9.376482e-03</td>\n",
       "    </tr>\n",
       "  </tbody>\n",
       "</table>\n",
       "</div>"
      ],
      "text/plain": [
       "                      baseMean  log2FoldChange     lfcSE      stat   \n",
       "ENSSSCG00000000002   98.064004        0.028840  0.005289  5.452589  \\\n",
       "ENSSSCG00000000007  358.054436        0.014851  0.006395  2.322250   \n",
       "ENSSSCG00000000010   22.894631       -0.045210  0.013462 -3.358360   \n",
       "ENSSSCG00000000015    7.852888        0.021296  0.010580  2.012802   \n",
       "ENSSSCG00000000019  789.126111       -0.020717  0.006906 -2.999841   \n",
       "\n",
       "                          pvalue          padj  \n",
       "ENSSSCG00000000002  4.964168e-08  7.248131e-07  \n",
       "ENSSSCG00000000007  2.021946e-02  5.024005e-02  \n",
       "ENSSSCG00000000010  7.840636e-04  3.331489e-03  \n",
       "ENSSSCG00000000015  4.413543e-02  9.545964e-02  \n",
       "ENSSSCG00000000019  2.701210e-03  9.376482e-03  "
      ]
     },
     "execution_count": 13,
     "metadata": {},
     "output_type": "execute_result"
    }
   ],
   "source": [
    "de = pd.read_csv('./deGenes2.txt', delimiter= '\\t', header=0, index_col=0)\n",
    "de.head()"
   ]
  },
  {
   "cell_type": "code",
   "execution_count": 14,
   "id": "frank-wilson",
   "metadata": {
    "tags": []
   },
   "outputs": [
    {
     "data": {
      "text/plain": [
       "7605"
      ]
     },
     "execution_count": 14,
     "metadata": {},
     "output_type": "execute_result"
    }
   ],
   "source": [
    "len(de.index)"
   ]
  },
  {
   "cell_type": "code",
   "execution_count": 15,
   "id": "deluxe-comparative",
   "metadata": {
    "tags": []
   },
   "outputs": [],
   "source": [
    "logchange=0.13"
   ]
  },
  {
   "cell_type": "code",
   "execution_count": 16,
   "id": "competitive-contribution",
   "metadata": {
    "tags": []
   },
   "outputs": [
    {
     "data": {
      "text/plain": [
       "20"
      ]
     },
     "execution_count": 16,
     "metadata": {},
     "output_type": "execute_result"
    }
   ],
   "source": [
    "len(de[de['log2FoldChange'].abs() > logchange]) "
   ]
  },
  {
   "cell_type": "code",
   "execution_count": 17,
   "id": "contrary-plastic",
   "metadata": {
    "tags": []
   },
   "outputs": [
    {
     "data": {
      "text/html": [
       "<div>\n",
       "<style scoped>\n",
       "    .dataframe tbody tr th:only-of-type {\n",
       "        vertical-align: middle;\n",
       "    }\n",
       "\n",
       "    .dataframe tbody tr th {\n",
       "        vertical-align: top;\n",
       "    }\n",
       "\n",
       "    .dataframe thead th {\n",
       "        text-align: right;\n",
       "    }\n",
       "</style>\n",
       "<table border=\"1\" class=\"dataframe\">\n",
       "  <thead>\n",
       "    <tr style=\"text-align: right;\">\n",
       "      <th></th>\n",
       "      <th>ENSSSCG00000000574</th>\n",
       "      <th>ENSSSCG00000000915</th>\n",
       "      <th>ENSSSCG00000002471</th>\n",
       "      <th>ENSSSCG00000002780</th>\n",
       "      <th>ENSSSCG00000003140</th>\n",
       "      <th>ENSSSCG00000003497</th>\n",
       "      <th>ENSSSCG00000006678</th>\n",
       "      <th>ENSSSCG00000007369</th>\n",
       "      <th>ENSSSCG00000009361</th>\n",
       "      <th>ENSSSCG00000010190</th>\n",
       "      <th>ENSSSCG00000010771</th>\n",
       "      <th>ENSSSCG00000011441</th>\n",
       "      <th>ENSSSCG00000013311</th>\n",
       "      <th>ENSSSCG00000015717</th>\n",
       "      <th>ENSSSCG00000016157</th>\n",
       "      <th>ENSSSCG00000022045</th>\n",
       "      <th>ENSSSCG00000024651</th>\n",
       "      <th>ENSSSCG00000025268</th>\n",
       "      <th>ENSSSCG00000025416</th>\n",
       "      <th>ENSSSCG00000026943</th>\n",
       "    </tr>\n",
       "  </thead>\n",
       "  <tbody>\n",
       "    <tr>\n",
       "      <th>-5001</th>\n",
       "      <td>0.000000</td>\n",
       "      <td>47.883920</td>\n",
       "      <td>426.166890</td>\n",
       "      <td>208.295053</td>\n",
       "      <td>0.000000</td>\n",
       "      <td>0.000000</td>\n",
       "      <td>134.074977</td>\n",
       "      <td>0.0</td>\n",
       "      <td>11.970980</td>\n",
       "      <td>45.489724</td>\n",
       "      <td>2.394196</td>\n",
       "      <td>1.197098</td>\n",
       "      <td>3.591294</td>\n",
       "      <td>0.000000</td>\n",
       "      <td>2.394196</td>\n",
       "      <td>0.000000</td>\n",
       "      <td>10.773882</td>\n",
       "      <td>23.941960</td>\n",
       "      <td>2.394196</td>\n",
       "      <td>0.000000</td>\n",
       "    </tr>\n",
       "    <tr>\n",
       "      <th>-5001</th>\n",
       "      <td>0.000000</td>\n",
       "      <td>2.171336</td>\n",
       "      <td>1802.208972</td>\n",
       "      <td>113.995146</td>\n",
       "      <td>2.171336</td>\n",
       "      <td>1.085668</td>\n",
       "      <td>542.834028</td>\n",
       "      <td>0.0</td>\n",
       "      <td>2.171336</td>\n",
       "      <td>0.000000</td>\n",
       "      <td>1.085668</td>\n",
       "      <td>0.000000</td>\n",
       "      <td>3.257004</td>\n",
       "      <td>0.000000</td>\n",
       "      <td>1.085668</td>\n",
       "      <td>2.171336</td>\n",
       "      <td>19.542025</td>\n",
       "      <td>4.342672</td>\n",
       "      <td>0.000000</td>\n",
       "      <td>2.171336</td>\n",
       "    </tr>\n",
       "    <tr>\n",
       "      <th>-5001</th>\n",
       "      <td>0.815170</td>\n",
       "      <td>3.260678</td>\n",
       "      <td>315.470610</td>\n",
       "      <td>89.668649</td>\n",
       "      <td>3.260678</td>\n",
       "      <td>8.966865</td>\n",
       "      <td>236.399165</td>\n",
       "      <td>0.0</td>\n",
       "      <td>1.630339</td>\n",
       "      <td>0.000000</td>\n",
       "      <td>0.815170</td>\n",
       "      <td>0.000000</td>\n",
       "      <td>2.445509</td>\n",
       "      <td>4.891017</td>\n",
       "      <td>0.000000</td>\n",
       "      <td>1.630339</td>\n",
       "      <td>95.374836</td>\n",
       "      <td>4.891017</td>\n",
       "      <td>0.000000</td>\n",
       "      <td>1.630339</td>\n",
       "    </tr>\n",
       "    <tr>\n",
       "      <th>-5001</th>\n",
       "      <td>0.000000</td>\n",
       "      <td>2.874722</td>\n",
       "      <td>67.555958</td>\n",
       "      <td>310.469934</td>\n",
       "      <td>0.000000</td>\n",
       "      <td>1.437361</td>\n",
       "      <td>138.705318</td>\n",
       "      <td>0.0</td>\n",
       "      <td>1.437361</td>\n",
       "      <td>11.498886</td>\n",
       "      <td>0.718680</td>\n",
       "      <td>0.000000</td>\n",
       "      <td>0.000000</td>\n",
       "      <td>0.000000</td>\n",
       "      <td>0.718680</td>\n",
       "      <td>0.000000</td>\n",
       "      <td>41.683463</td>\n",
       "      <td>7.905484</td>\n",
       "      <td>7.905484</td>\n",
       "      <td>0.718680</td>\n",
       "    </tr>\n",
       "    <tr>\n",
       "      <th>-5002</th>\n",
       "      <td>3.983712</td>\n",
       "      <td>6.639520</td>\n",
       "      <td>2194.582532</td>\n",
       "      <td>20.803828</td>\n",
       "      <td>2.655808</td>\n",
       "      <td>0.885269</td>\n",
       "      <td>544.440604</td>\n",
       "      <td>0.0</td>\n",
       "      <td>4.426346</td>\n",
       "      <td>0.000000</td>\n",
       "      <td>0.000000</td>\n",
       "      <td>0.000000</td>\n",
       "      <td>7.967423</td>\n",
       "      <td>0.000000</td>\n",
       "      <td>0.000000</td>\n",
       "      <td>0.442635</td>\n",
       "      <td>37.623944</td>\n",
       "      <td>0.885269</td>\n",
       "      <td>2.213173</td>\n",
       "      <td>0.442635</td>\n",
       "    </tr>\n",
       "  </tbody>\n",
       "</table>\n",
       "</div>"
      ],
      "text/plain": [
       "       ENSSSCG00000000574  ENSSSCG00000000915  ENSSSCG00000002471   \n",
       "-5001            0.000000           47.883920          426.166890  \\\n",
       "-5001            0.000000            2.171336         1802.208972   \n",
       "-5001            0.815170            3.260678          315.470610   \n",
       "-5001            0.000000            2.874722           67.555958   \n",
       "-5002            3.983712            6.639520         2194.582532   \n",
       "\n",
       "       ENSSSCG00000002780  ENSSSCG00000003140  ENSSSCG00000003497   \n",
       "-5001          208.295053            0.000000            0.000000  \\\n",
       "-5001          113.995146            2.171336            1.085668   \n",
       "-5001           89.668649            3.260678            8.966865   \n",
       "-5001          310.469934            0.000000            1.437361   \n",
       "-5002           20.803828            2.655808            0.885269   \n",
       "\n",
       "       ENSSSCG00000006678  ENSSSCG00000007369  ENSSSCG00000009361   \n",
       "-5001          134.074977                 0.0           11.970980  \\\n",
       "-5001          542.834028                 0.0            2.171336   \n",
       "-5001          236.399165                 0.0            1.630339   \n",
       "-5001          138.705318                 0.0            1.437361   \n",
       "-5002          544.440604                 0.0            4.426346   \n",
       "\n",
       "       ENSSSCG00000010190  ENSSSCG00000010771  ENSSSCG00000011441   \n",
       "-5001           45.489724            2.394196            1.197098  \\\n",
       "-5001            0.000000            1.085668            0.000000   \n",
       "-5001            0.000000            0.815170            0.000000   \n",
       "-5001           11.498886            0.718680            0.000000   \n",
       "-5002            0.000000            0.000000            0.000000   \n",
       "\n",
       "       ENSSSCG00000013311  ENSSSCG00000015717  ENSSSCG00000016157   \n",
       "-5001            3.591294            0.000000            2.394196  \\\n",
       "-5001            3.257004            0.000000            1.085668   \n",
       "-5001            2.445509            4.891017            0.000000   \n",
       "-5001            0.000000            0.000000            0.718680   \n",
       "-5002            7.967423            0.000000            0.000000   \n",
       "\n",
       "       ENSSSCG00000022045  ENSSSCG00000024651  ENSSSCG00000025268   \n",
       "-5001            0.000000           10.773882           23.941960  \\\n",
       "-5001            2.171336           19.542025            4.342672   \n",
       "-5001            1.630339           95.374836            4.891017   \n",
       "-5001            0.000000           41.683463            7.905484   \n",
       "-5002            0.442635           37.623944            0.885269   \n",
       "\n",
       "       ENSSSCG00000025416  ENSSSCG00000026943  \n",
       "-5001            2.394196            0.000000  \n",
       "-5001            0.000000            2.171336  \n",
       "-5001            0.000000            1.630339  \n",
       "-5001            7.905484            0.718680  \n",
       "-5002            2.213173            0.442635  "
      ]
     },
     "execution_count": 17,
     "metadata": {},
     "output_type": "execute_result"
    }
   ],
   "source": [
    "df = df[de[de['log2FoldChange'].abs() > logchange].index.tolist()]\n",
    "df.head()"
   ]
  },
  {
   "cell_type": "code",
   "execution_count": 18,
   "id": "compliant-devices",
   "metadata": {
    "tags": []
   },
   "outputs": [],
   "source": [
    "df['dpi'] = dpi"
   ]
  },
  {
   "cell_type": "code",
   "execution_count": 26,
   "id": "quality-apple",
   "metadata": {
    "tags": []
   },
   "outputs": [],
   "source": [
    "mods = []"
   ]
  },
  {
   "cell_type": "code",
   "execution_count": 27,
   "id": "driving-lighting",
   "metadata": {
    "tags": []
   },
   "outputs": [],
   "source": [
    "def imputer(df):\n",
    "    # imputes by considering 10 closest neighbors, weighted by distance\n",
    "    imputer = KNNImputer(n_neighbors=10, weights=\"distance\")\n",
    "    imputed_df = pd.DataFrame(imputer.fit_transform(df), index=df.index, columns=df.columns)\n",
    "    imputed_df = pd.melt(imputed_df, value_vars=imputed_df.columns, var_name='day', value_name='ge')\n",
    "    return(imputed_df)\n",
    "    \n",
    "def regress(df, gene, n):\n",
    "    mod = make_pipeline(SplineTransformer(n_knots=5, degree=3), Ridge(alpha=0.2))\n",
    "    x = df[['day']].values\n",
    "    y = df['ge']\n",
    "    mod.fit(x,y)\n",
    "    \n",
    "    mods.append(mod)\n",
    "    \n",
    "    lin = np.arange(0,29).reshape(-1, 1) \n",
    "    preds = mod.predict(lin)\n",
    "    \n",
    "    ax = plt.subplot(5, 6, n + 1)\n",
    "    plt.scatter(df['day'], df[['ge']])\n",
    "    plt.plot(lin, preds, color='red')\n",
    "    plt.title(gene)\n",
    "\n",
    "    \n",
    "    \n",
    "\n"
   ]
  },
  {
   "cell_type": "code",
   "execution_count": 28,
   "id": "small-baltimore",
   "metadata": {
    "tags": []
   },
   "outputs": [
    {
     "data": {
      "image/png": "[encoded data removed]",
      "text/plain": [
       "<Figure size 2200x1500 with 20 Axes>"
      ]
     },
     "metadata": {},
     "output_type": "display_data"
    }
   ],
   "source": [
    "plt.figure(figsize=(22, 15))\n",
    "plt.subplots_adjust(hspace=0.5)\n",
    "\n",
    "for i, gene in enumerate(df.columns):\n",
    "    \n",
    "    if gene != 'dpi':\n",
    "\n",
    "        gene_df = df[[gene, 'dpi']]\n",
    "        gene_df = gene_df.reset_index()\n",
    "        gene_df = gene_df.pivot(index='index', columns='dpi')[gene].reset_index(drop=True).drop(11, axis=1)\n",
    "\n",
    "        gene_df_imputed = imputer(gene_df)\n",
    "\n",
    "        regress(gene_df_imputed, gene, i)"
   ]
  },
  {
   "cell_type": "code",
   "execution_count": 29,
   "id": "combined-commercial",
   "metadata": {
    "tags": []
   },
   "outputs": [],
   "source": [
    "patient = df.iloc[2,:]"
   ]
  },
  {
   "cell_type": "code",
   "execution_count": 30,
   "id": "assured-mattress",
   "metadata": {
    "tags": []
   },
   "outputs": [
    {
     "data": {
      "text/plain": [
       "ENSSSCG00000000574      0.815170\n",
       "ENSSSCG00000000915      3.260678\n",
       "ENSSSCG00000002471    315.470610\n",
       "ENSSSCG00000002780     89.668649\n",
       "ENSSSCG00000003140      3.260678\n",
       "ENSSSCG00000003497      8.966865\n",
       "ENSSSCG00000006678    236.399165\n",
       "ENSSSCG00000007369      0.000000\n",
       "ENSSSCG00000009361      1.630339\n",
       "ENSSSCG00000010190      0.000000\n",
       "ENSSSCG00000010771      0.815170\n",
       "ENSSSCG00000011441      0.000000\n",
       "ENSSSCG00000013311      2.445509\n",
       "ENSSSCG00000015717      4.891017\n",
       "ENSSSCG00000016157      0.000000\n",
       "ENSSSCG00000022045      1.630339\n",
       "ENSSSCG00000024651     95.374836\n",
       "ENSSSCG00000025268      4.891017\n",
       "ENSSSCG00000025416      0.000000\n",
       "ENSSSCG00000026943      1.630339\n",
       "dpi                    21.000000\n",
       "Name: -5001, dtype: float64"
      ]
     },
     "execution_count": 30,
     "metadata": {},
     "output_type": "execute_result"
    }
   ],
   "source": [
    "patient"
   ]
  },
  {
   "cell_type": "code",
   "execution_count": 31,
   "id": "efficient-sixth",
   "metadata": {
    "tags": []
   },
   "outputs": [],
   "source": [
    "patient_dpi = patient.pop('dpi')"
   ]
  },
  {
   "cell_type": "code",
   "execution_count": 32,
   "id": "magnetic-honolulu",
   "metadata": {
    "tags": []
   },
   "outputs": [],
   "source": [
    "guesses = []\n",
    "\n",
    "for gene in range(len(patient)):\n",
    "    value = patient[gene]\n",
    "    min_dif = 10000\n",
    "    best_guess = 0\n",
    "    counter = 0\n",
    "    mod = mods[gene]\n",
    "    lin = np.arange(0,29).reshape(-1, 1) \n",
    "    preds = mod.predict(lin)\n",
    "\n",
    "    inv_dist = []\n",
    "\n",
    "\n",
    "    for i, p in enumerate(preds):\n",
    "        inv_dist.append(1/pow(value - p, 16))\n",
    "\n",
    "\n",
    "    s = sum(inv_dist)\n",
    "    weights = inv_dist/s\n",
    "\n",
    "    est = round(sum(np.multiply(np.arange(0,29),weights)))\n",
    "    guesses.append(est)"
   ]
  },
  {
   "cell_type": "code",
   "execution_count": 33,
   "id": "charged-haiti",
   "metadata": {
    "tags": []
   },
   "outputs": [
    {
     "name": "stdout",
     "output_type": "stream",
     "text": [
      "9\n"
     ]
    }
   ],
   "source": [
    "print(stats.mode(guesses).mode[0])"
   ]
  },
  {
   "cell_type": "code",
   "execution_count": 34,
   "id": "guilty-jungle",
   "metadata": {
    "tags": []
   },
   "outputs": [],
   "source": [
    "gene=0\n",
    "value = patient[gene]\n",
    "min_dif = 10000\n",
    "best_guess = 0\n",
    "counter = 0\n",
    "mod = mods[gene]\n",
    "lin = np.arange(0,29).reshape(-1, 1) \n",
    "preds = mod.predict(lin)\n",
    "\n",
    "inv_dist = []\n",
    "\n",
    "    \n",
    "for i, p in enumerate(preds):\n",
    "    inv_dist.append(1/pow(value - p, 16))\n",
    "\n",
    "        \n",
    "s = sum(inv_dist)\n",
    "weights = inv_dist/s\n",
    "\n",
    "est = round(sum(np.multiply(np.arange(0,29),weights)))"
   ]
  },
  {
   "cell_type": "code",
   "execution_count": 35,
   "id": "latin-parcel",
   "metadata": {
    "tags": []
   },
   "outputs": [
    {
     "data": {
      "text/plain": [
       "21"
      ]
     },
     "execution_count": 35,
     "metadata": {},
     "output_type": "execute_result"
    }
   ],
   "source": [
    "est"
   ]
  },
  {
   "cell_type": "code",
   "execution_count": null,
   "id": "seasonal-porcelain",
   "metadata": {},
   "outputs": [],
   "source": []
  },
  {
   "cell_type": "code",
   "execution_count": null,
   "id": "cordless-armenia",
   "metadata": {},
   "outputs": [],
   "source": []
  },
  {
   "cell_type": "code",
   "execution_count": null,
   "id": "homeless-council",
   "metadata": {},
   "outputs": [],
   "source": []
  },
  {
   "cell_type": "code",
   "execution_count": 36,
   "id": "normal-bumper",
   "metadata": {
    "tags": []
   },
   "outputs": [],
   "source": [
    "# INVERSE DISTANCE WEIGHTING"
   ]
  },
  {
   "cell_type": "code",
   "execution_count": 37,
   "id": "smoking-import",
   "metadata": {
    "tags": []
   },
   "outputs": [
    {
     "data": {
      "text/plain": [
       "21.0"
      ]
     },
     "execution_count": 37,
     "metadata": {},
     "output_type": "execute_result"
    }
   ],
   "source": [
    "patient_dpi"
   ]
  },
  {
   "cell_type": "code",
   "execution_count": 38,
   "id": "afraid-tuning",
   "metadata": {
    "tags": []
   },
   "outputs": [],
   "source": [
    "def n_w_for_half(weights):\n",
    "    weights.sort()\n",
    "    weights = weights[::-1]\n",
    "    tot=0\n",
    "    for i in range(len(weights)):\n",
    "        if tot >= 0.5:\n",
    "            return(i)\n",
    "        tot = tot+weights[i]\n",
    "\n"
   ]
  },
  {
   "cell_type": "code",
   "execution_count": 39,
   "id": "swiss-iceland",
   "metadata": {
    "tags": []
   },
   "outputs": [],
   "source": [
    "def individual_pred(patient):\n",
    "    guesses = []\n",
    "\n",
    "\n",
    "    for gene in range(len(patient)):\n",
    "        value = patient[gene]\n",
    "        mod = mods[gene]\n",
    "        lin = np.arange(0,29).reshape(-1, 1) \n",
    "        preds = mod.predict(lin)\n",
    "\n",
    "        dist = []\n",
    "        inv_dist = []\n",
    "\n",
    "\n",
    "        for i, p in enumerate(preds):\n",
    "            dist.append(abs(value - p))                       \n",
    "            \n",
    "            inv_dist.append(1/pow(value - p,16))\n",
    "\n",
    "\n",
    "        s = sum(inv_dist)\n",
    "        weights = inv_dist/s\n",
    "\n",
    "        est = sum(np.multiply(np.arange(0,29),weights))\n",
    "        \n",
    "        guesses.append(est)\n",
    "\n",
    "    return(guesses)"
   ]
  },
  {
   "cell_type": "code",
   "execution_count": 40,
   "id": "viral-questionnaire",
   "metadata": {
    "tags": []
   },
   "outputs": [],
   "source": [
    "all_preds = []\n",
    "true_vals = []\n",
    "for i in range(len(df.index)):\n",
    "    patient = df.iloc[i,:]\n",
    "    patient_dpi = patient.pop('dpi')\n",
    "    pred = individual_pred(patient)\n",
    "    all_preds.append(pred)\n",
    "    true_vals.append(patient_dpi)"
   ]
  },
  {
   "cell_type": "code",
   "execution_count": 41,
   "id": "higher-america",
   "metadata": {
    "tags": []
   },
   "outputs": [],
   "source": [
    "reg = LinearRegression().fit(all_preds, true_vals)"
   ]
  },
  {
   "cell_type": "code",
   "execution_count": 42,
   "id": "scheduled-example",
   "metadata": {
    "tags": []
   },
   "outputs": [
    {
     "data": {
      "text/plain": [
       "-4.109087982713065"
      ]
     },
     "execution_count": 42,
     "metadata": {},
     "output_type": "execute_result"
    }
   ],
   "source": [
    "reg.intercept_"
   ]
  },
  {
   "cell_type": "code",
   "execution_count": 43,
   "id": "mineral-challenge",
   "metadata": {
    "tags": []
   },
   "outputs": [
    {
     "data": {
      "text/plain": [
       "array([ 0.01396176, -0.11872546, -0.11956024,  0.11559135,  0.13111632,\n",
       "        0.27404117, -0.05200569,  0.03040836,  0.05702987, -0.07625927,\n",
       "        0.07356336,  0.00621022,  0.19514937,  0.01428409, -0.11307285,\n",
       "        0.03288947,  0.23831627,  0.08122456,  0.25049632,  0.12378491])"
      ]
     },
     "execution_count": 43,
     "metadata": {},
     "output_type": "execute_result"
    }
   ],
   "source": [
    "reg.coef_"
   ]
  },
  {
   "cell_type": "code",
   "execution_count": null,
   "id": "dated-pledge",
   "metadata": {},
   "outputs": [],
   "source": []
  },
  {
   "cell_type": "code",
   "execution_count": null,
   "id": "critical-plymouth",
   "metadata": {},
   "outputs": [],
   "source": []
  },
  {
   "cell_type": "code",
   "execution_count": 44,
   "id": "capital-japan",
   "metadata": {
    "tags": []
   },
   "outputs": [],
   "source": [
    "def ensemble_pred(patient):\n",
    "    guesses = []\n",
    "\n",
    "    for gene in range(len(patient)):\n",
    "        value = patient[gene]\n",
    "        mod = mods[gene]\n",
    "        lin = np.arange(0,29).reshape(-1, 1) \n",
    "        preds = mod.predict(lin)\n",
    "\n",
    "        dist = []\n",
    "        inv_dist = []\n",
    "\n",
    "\n",
    "        for i, p in enumerate(preds):\n",
    "            dist.append(abs(value - p))                       \n",
    "            \n",
    "            inv_dist.append(1/pow(value - p,16))\n",
    "\n",
    "\n",
    "        s = sum(inv_dist)\n",
    "        weights = inv_dist/s\n",
    "\n",
    "        est = sum(np.multiply(np.arange(0,29),weights))\n",
    "        \n",
    "        guesses.append(est)\n",
    "\n",
    "    pred = reg.intercept_ + sum(np.multiply(guesses,reg.coef_))\n",
    "\n",
    "    return(pred)"
   ]
  },
  {
   "cell_type": "code",
   "execution_count": 45,
   "id": "knowing-journey",
   "metadata": {
    "tags": []
   },
   "outputs": [
    {
     "data": {
      "text/plain": [
       "5.282880363079878"
      ]
     },
     "execution_count": 45,
     "metadata": {},
     "output_type": "execute_result"
    }
   ],
   "source": [
    "ensemble_pred(patient)"
   ]
  },
  {
   "cell_type": "code",
   "execution_count": 46,
   "id": "elder-battlefield",
   "metadata": {
    "tags": []
   },
   "outputs": [],
   "source": [
    "diff = []\n",
    "all_preds = []\n",
    "true_vals = []\n",
    "for i in range(len(df.index)):\n",
    "    patient = df.iloc[i,:]\n",
    "    patient_dpi = patient.pop('dpi')\n",
    "    pred = ensemble_pred(patient)\n",
    "    all_preds.append(pred)\n",
    "    true_vals.append(patient_dpi)\n",
    "    diff.append(abs(pred-patient_dpi))\n",
    "#     print('pred')\n",
    "#     print(pred)\n",
    "#     print('actual')\n",
    "#     print(patient_dpi)"
   ]
  },
  {
   "cell_type": "code",
   "execution_count": null,
   "id": "undefined-liability",
   "metadata": {},
   "outputs": [],
   "source": []
  },
  {
   "cell_type": "code",
   "execution_count": 47,
   "id": "reverse-death",
   "metadata": {
    "tags": []
   },
   "outputs": [
    {
     "data": {
      "text/plain": [
       "4.312516945843503"
      ]
     },
     "execution_count": 47,
     "metadata": {},
     "output_type": "execute_result"
    }
   ],
   "source": [
    "np.average(diff)"
   ]
  },
  {
   "cell_type": "code",
   "execution_count": 48,
   "id": "finished-transportation",
   "metadata": {
    "tags": []
   },
   "outputs": [
    {
     "data": {
      "text/plain": [
       "0.558193770344054"
      ]
     },
     "execution_count": 48,
     "metadata": {},
     "output_type": "execute_result"
    }
   ],
   "source": [
    "r2_score(true_vals, all_preds)"
   ]
  },
  {
   "cell_type": "code",
   "execution_count": 49,
   "id": "changed-scene",
   "metadata": {
    "tags": []
   },
   "outputs": [
    {
     "data": {
      "text/plain": [
       "5.925409288442956"
      ]
     },
     "execution_count": 49,
     "metadata": {},
     "output_type": "execute_result"
    }
   ],
   "source": [
    "mean_squared_error(true_vals, all_preds, squared=False)"
   ]
  },
  {
   "cell_type": "code",
   "execution_count": null,
   "id": "molecular-engine",
   "metadata": {},
   "outputs": [],
   "source": []
  },
  {
   "cell_type": "code",
   "execution_count": null,
   "id": "subject-blake",
   "metadata": {},
   "outputs": [],
   "source": []
  },
  {
   "cell_type": "code",
   "execution_count": null,
   "id": "considerable-south",
   "metadata": {},
   "outputs": [],
   "source": []
  },
  {
   "cell_type": "code",
   "execution_count": null,
   "id": "impressive-likelihood",
   "metadata": {},
   "outputs": [],
   "source": []
  },
  {
   "cell_type": "code",
   "execution_count": null,
   "id": "spectacular-biography",
   "metadata": {},
   "outputs": [],
   "source": []
  }
 ],
 "metadata": {
  "kernelspec": {
   "display_name": "venv",
   "language": "python",
   "name": "venv"
  },
  "language_info": {
   "codemirror_mode": {
    "name": "ipython",
    "version": 3
   },
   "file_extension": ".py",
   "mimetype": "text/x-python",
   "name": "python",
   "nbconvert_exporter": "python",
   "pygments_lexer": "ipython3",
   "version": "3.11.0"
  }
 },
 "nbformat": 4,
 "nbformat_minor": 5
}
